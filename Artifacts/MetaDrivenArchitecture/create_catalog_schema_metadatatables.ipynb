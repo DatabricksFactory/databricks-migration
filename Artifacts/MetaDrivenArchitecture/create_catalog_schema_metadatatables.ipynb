{
 "cells": [
  {
   "cell_type": "code",
   "execution_count": 0,
   "metadata": {
    "application/vnd.databricks.v1+cell": {
     "cellMetadata": {
      "byteLimit": 2048000,
      "rowLimit": 10000
     },
     "inputWidgets": {},
     "nuid": "7c99fc7c-65bf-4d0b-8cbb-6c6b0ca477f6",
     "showTitle": false,
     "title": ""
    }
   },
   "outputs": [],
   "source": [
    "dbutils.widgets.text(\"metaCatalogName\", \"\")\n",
    "dbutils.widgets.text(\"metaSchemaName\", \"\")"
   ]
  },
  {
   "cell_type": "code",
   "execution_count": 0,
   "metadata": {
    "application/vnd.databricks.v1+cell": {
     "cellMetadata": {
      "byteLimit": 2048000,
      "rowLimit": 10000
     },
     "inputWidgets": {},
     "nuid": "ee94dc0e-2a1e-428b-a33e-01d5896ec08d",
     "showTitle": false,
     "title": ""
    }
   },
   "outputs": [],
   "source": [
    "CatalogName = dbutils.widgets.get(\"metaCatalogName\")\n",
    "SchemaName = dbutils.widgets.get(\"metaSchemaName\")"
   ]
  },
  {
   "cell_type": "code",
   "execution_count": 0,
   "metadata": {
    "application/vnd.databricks.v1+cell": {
     "cellMetadata": {
      "byteLimit": 2048000,
      "rowLimit": 10000
     },
     "inputWidgets": {},
     "nuid": "5a75f6bc-fd36-47a0-9fa7-27af949e5a9b",
     "showTitle": false,
     "title": ""
    }
   },
   "outputs": [],
   "source": [
    "%run \"./functions/Functions\""
   ]
  },
  {
   "cell_type": "code",
   "execution_count": 0,
   "metadata": {
    "application/vnd.databricks.v1+cell": {
     "cellMetadata": {
      "byteLimit": 2048000,
      "rowLimit": 10000
     },
     "inputWidgets": {},
     "nuid": "9bae497c-625f-4d15-a1e7-aa9a7ce511c2",
     "showTitle": false,
     "title": ""
    }
   },
   "outputs": [],
   "source": [
    "if not catalog_exists(CatalogName):\n",
    "    create_catalog(CatalogName)"
   ]
  },
  {
   "cell_type": "code",
   "execution_count": 0,
   "metadata": {
    "application/vnd.databricks.v1+cell": {
     "cellMetadata": {
      "byteLimit": 2048000,
      "rowLimit": 10000
     },
     "inputWidgets": {},
     "nuid": "321c0d08-198e-4ba1-9a8b-c4df8ee245f2",
     "showTitle": false,
     "title": ""
    }
   },
   "outputs": [],
   "source": [
    "if not schema_exists(CatalogName,SchemaName):\n",
    "    create_schema(CatalogName,SchemaName)"
   ]
  },
  {
   "cell_type": "code",
   "execution_count": 0,
   "metadata": {
    "application/vnd.databricks.v1+cell": {
     "cellMetadata": {
      "byteLimit": 2048000,
      "rowLimit": 10000
     },
     "inputWidgets": {},
     "nuid": "ec59e2d3-cd34-4ade-8eb1-eb8b1b569d78",
     "showTitle": false,
     "title": ""
    }
   },
   "outputs": [],
   "source": [
    "if not table_exists(CatalogName,SchemaName,\"meta_tablemappings\"):\n",
    "    create_meta_tablemappings(CatalogName,SchemaName)"
   ]
  },
  {
   "cell_type": "code",
   "execution_count": 0,
   "metadata": {
    "application/vnd.databricks.v1+cell": {
     "cellMetadata": {
      "byteLimit": 2048000,
      "rowLimit": 10000
     },
     "inputWidgets": {},
     "nuid": "7387e3db-645f-4bfb-b552-050b3bfc80c3",
     "showTitle": false,
     "title": ""
    }
   },
   "outputs": [],
   "source": [
    "if not table_exists(CatalogName,SchemaName,\"meta_dataloadingmetrics\"):\n",
    "    create_meta_dataloadingmetrics(CatalogName,SchemaName)"
   ]
  },
  {
   "cell_type": "code",
   "execution_count": 0,
   "metadata": {
    "application/vnd.databricks.v1+cell": {
     "cellMetadata": {
      "byteLimit": 2048000,
      "rowLimit": 10000
     },
     "inputWidgets": {},
     "nuid": "ba88abc4-7314-466e-b0a1-0c1fe6a6030f",
     "showTitle": false,
     "title": ""
    }
   },
   "outputs": [],
   "source": [
    "if not table_exists(CatalogName,SchemaName,\"meta_audittable\"):\n",
    "    create_meta_audittable(CatalogName,SchemaName)"
   ]
  }
 ],
 "metadata": {
  "application/vnd.databricks.v1+notebook": {
   "dashboards": [],
   "language": "python",
   "notebookMetadata": {
    "pythonIndentUnit": 4
   },
   "notebookName": "create_catalog_schema_metadatatables",
   "widgets": {
    "CatalogName": {
     "currentValue": "p_ause_catalog_analytics",
     "nuid": "d641e34d-7acc-407f-8429-37d7be6e552e",
     "widgetInfo": {
      "widgetType": "text",
      "defaultValue": "",
      "label": null,
      "name": "CatalogName",
      "options": {
       "widgetType": "text",
       "autoCreated": null,
       "validationRegex": null
      }
     }
    },
    "SchemaName": {
     "currentValue": "analytics_staging",
     "nuid": "04a56f03-ba0a-4302-bc55-b57852f51ba6",
     "widgetInfo": {
      "widgetType": "text",
      "defaultValue": "",
      "label": null,
      "name": "SchemaName",
      "options": {
       "widgetType": "text",
       "autoCreated": null,
       "validationRegex": null
      }
     }
    },
    "metaCatalogName": {
     "currentValue": "p_ause_catalog_analytics",
     "nuid": "db610b6b-1cef-47eb-87ba-ee7c01bf60c5",
     "widgetInfo": {
      "widgetType": "text",
      "defaultValue": "",
      "label": null,
      "name": "metaCatalogName",
      "options": {
       "widgetType": "text",
       "autoCreated": null,
       "validationRegex": null
      }
     }
    },
    "metaSchemaName": {
     "currentValue": "analytics_staging",
     "nuid": "14bc21d6-3c66-412d-9eca-56e0bb82ac0a",
     "widgetInfo": {
      "widgetType": "text",
      "defaultValue": "",
      "label": null,
      "name": "metaSchemaName",
      "options": {
       "widgetType": "text",
       "autoCreated": null,
       "validationRegex": null
      }
     }
    }
   }
  }
 },
 "nbformat": 4,
 "nbformat_minor": 0
}
